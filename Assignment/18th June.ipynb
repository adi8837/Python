{
 "cells": [
  {
   "cell_type": "markdown",
   "id": "964be353",
   "metadata": {},
   "source": [
    "# 18th June"
   ]
  },
  {
   "cell_type": "code",
   "execution_count": 1,
   "id": "e07beb70",
   "metadata": {},
   "outputs": [
    {
     "name": "stdout",
     "output_type": "stream",
     "text": [
      "Division result: 5.0\n",
      "Error: Cannot divide by zero\n"
     ]
    }
   ],
   "source": [
    "'''Q1.\tWhat is the role of the 'else' block in a try-except statement? Provide an example scenario where it would be\n",
    "useful.\n",
    "Ans: The else block in a try-except statement is used to specify a block of code that should be executed if no exception\n",
    "is raised within the associated try block.\n",
    "Eg – '''\n",
    "def divide(a, b):\n",
    "    try:\n",
    "        result = a / b\n",
    "    except ZeroDivisionError:\n",
    "        print(\"Error: Cannot divide by zero\")\n",
    "    else:\n",
    "        print(\"Division result:\", result)\n",
    "\n",
    "\n",
    "divide(10, 2)\n",
    "divide(10, 0)\n"
   ]
  },
  {
   "cell_type": "code",
   "execution_count": 2,
   "id": "fc24dc46",
   "metadata": {},
   "outputs": [
    {
     "name": "stdout",
     "output_type": "stream",
     "text": [
      "First division result: 5.0\n",
      "Error: Cannot divide by zero in the nested block\n"
     ]
    }
   ],
   "source": [
    "'''Q2.\tCan a try-except block be nested inside another try-except block? Explain with an example.\n",
    "Ans: \n",
    "Yes, a try-except block can be nested inside another try-except block. This is known as nested exception handling.\n",
    "It allows you to handle different levels of exceptions and provide more specific error handling for different parts\n",
    "of our code.\n",
    "Eg -'''\n",
    "def nested_exception_example(a, b, c):\n",
    "    try:\n",
    "        result = a / b\n",
    "        print(\"First division result:\", result)\n",
    "\n",
    "        try:\n",
    "            another_result = result / c\n",
    "            print(\"Second division result:\", another_result)\n",
    "        except ZeroDivisionError:\n",
    "            print(\"Error: Cannot divide by zero in the nested block\")\n",
    "    except ZeroDivisionError:\n",
    "        print(\"Error: Cannot divide by zero in the outer block\")\n",
    "\n",
    "\n",
    "nested_exception_example(10, 2, 0)\n"
   ]
  },
  {
   "cell_type": "code",
   "execution_count": 3,
   "id": "dd91c6de",
   "metadata": {},
   "outputs": [
    {
     "name": "stdout",
     "output_type": "stream",
     "text": [
      "Custom error: Data must be an integer\n"
     ]
    }
   ],
   "source": [
    "'''Q3.\tHow can you create a custom exception class in Python? Provide an example that demonstrates its usage.\n",
    "Ans: In Python, you can create a custom exception class by defining a new class that inherits from the built-in Exception\n",
    "class or one of its subclasses. This allows you to create your own specific exception types to handle different error\n",
    "scenarios in your code.\n",
    " Eg – '''\n",
    "class CustomError(Exception):\n",
    "    \"\"\"Custom exception class.\"\"\"\n",
    "    def __init__(self, message):\n",
    "        self.message = message\n",
    "        super().__init__(self.message)\n",
    "\n",
    "def process_data(data):\n",
    "    if not isinstance(data, int):\n",
    "        raise CustomError(\"Data must be an integer\")\n",
    "\n",
    "    if data < 0:\n",
    "        raise CustomError(\"Data cannot be negative\")\n",
    "\n",
    "    return data * 2\n",
    "\n",
    "\n",
    "try:\n",
    "    value = process_data(\"hello\")\n",
    "except CustomError as e:\n",
    "    print(\"Custom error:\", e)\n",
    "else:\n",
    "    print(\"Processed value:\", value)\n"
   ]
  },
  {
   "cell_type": "code",
   "execution_count": null,
   "id": "6942c86f",
   "metadata": {},
   "outputs": [],
   "source": [
    "Q4.\tWhat are some common exceptions that are built-in to Python?\n",
    "\n",
    "Ans: Some common exceptions are as follows:\n",
    "a)\tSyntaxError: Raised when there is a syntax error in the code.\n",
    "b)\tIndentationError: Raised when there is an issue with the indentation of the code.\n",
    "c)\tNameError: Raised when a local or global name is not found.\n",
    "d)\tTypeError: Raised when an operation or function is applied to an object of inappropriate type.\n",
    "e)\tValueError: Raised when a function receives an argument of the correct type but an inappropriate value.\n",
    "f)\tKeyError: Raised when a dictionary key is not found.\n",
    "g)\tIndexError: Raised when a sequence index is out of range.\n",
    "h)\tFileNotFoundError: Raised when a file or directory is not found.\n",
    "i)\tZeroDivisionError: Raised when division or modulo by zero occurs.\n",
    "j)\tIOError: Raised when an I/O operation (e.g., file operation) fails.\n"
   ]
  },
  {
   "cell_type": "code",
   "execution_count": null,
   "id": "5566f405",
   "metadata": {},
   "outputs": [],
   "source": [
    "Q5.\tWhat is logging in Python, and why is it important in software development?\n",
    "Ans: Logging in Python refers to the process of recording information, events, and messages generated during the\n",
    "    execution of a program. It involves capturing various levels of details about the program s behavior and state\n",
    "    and writing them to a log file or other output destinations.\n",
    "Logging is important in software development for several reasons:\n",
    "a)\tDebugging and Troubleshooting: Logging helps developers diagnose issues and bugs by providing a detailed history\n",
    "    of program execution. When an error occurs, developers can examine the log to understand what happened leading up\n",
    "    to the error.\n",
    "b)\tError and Exception Tracking: By logging errors and exceptions along with relevant context, developers can gain \n",
    "    insights into the cause of unexpected behavior and quickly identify problematic code areas.\n",
    "c)\tMonitoring and Performance Analysis: Logging can be used to monitor the performance of an application, tracking \n",
    "    metrics like response times, request rates, and resource utilization. This information is valuable for optimizing \n",
    "    and scaling the application.\n",
    "d)\tAuditing and Compliance: Logging is crucial for compliance with regulations and standards in industries like finance\n",
    "    and healthcare. Detailed logs can provide an audit trail of actions taken by the application and its users.\n",
    "e)\tSecurity: Logging security-related events and access attempts can help detect unauthorized activities or potential\n",
    "    security breaches.\n",
    "f)\tLong-term Maintenance: As software evolves, maintaining and improving it becomes easier with a comprehensive log \n",
    "    history. Logs can aid in understanding the evolution of the codebase and help in making informed decisions about \n",
    "    future changes.\n"
   ]
  },
  {
   "cell_type": "code",
   "execution_count": 5,
   "id": "560ddafb",
   "metadata": {},
   "outputs": [
    {
     "name": "stderr",
     "output_type": "stream",
     "text": [
      "DEBUG:root:This is a debug message.\n",
      "INFO:root:Application started.\n",
      "WARNING:root:Resource usage is nearing critical levels.\n",
      "ERROR:root:An error occurred while processing user input.\n",
      "CRITICAL:root:Server is down. Application cannot continue.\n"
     ]
    }
   ],
   "source": [
    "'''Q6.\tExplain the purpose of log levels in Python logging and provide examples of when each log level would be \n",
    "appropriate.\n",
    "Ans: Log levels in Python logging provide a way to categorize and prioritize different types of log messages based on\n",
    "their severity and importance. Each log level represents a different level of detail and significance, allowing developers\n",
    "to control the verbosity of log output and focus on specific aspects of their application's behavior. Python's logging\n",
    "module defines several standard log levels, which are as follows:\n",
    "\n",
    "a)\tDEBUG: The lowest log level, used for detailed debugging information. These messages are typically only relevant\n",
    "during development and should not be present in production code.\n",
    "Eg -''' \n",
    "import logging\n",
    "\n",
    "logging.basicConfig(level=logging.DEBUG)\n",
    "logging.debug(\"This is a debug message.\")\n",
    "\n",
    "'''b)\tINFO: Used to provide informational messages about the application's status or behavior. These messages can be \n",
    "helpful for tracking the general flow of the program.\n",
    "Eg -''' \n",
    "import logging\n",
    "\n",
    "logging.basicConfig(level=logging.INFO)\n",
    "logging.info(\"Application started.\")\n",
    "\n",
    "'''c)\tWARNING: Used to indicate potential issues or situations that might cause problems in the future, but the\n",
    "program can continue executing.\n",
    "\n",
    "Eg -''' \n",
    "import logging\n",
    "\n",
    "logging.basicConfig(level=logging.WARNING)\n",
    "logging.warning(\"Resource usage is nearing critical levels.\")\n",
    "\n",
    "'''d)\tERROR: Used to indicate errors that caused a specific operation to fail or unexpected behavior that may impact\n",
    "the application's functionality.\n",
    "Eg -''' \n",
    "import logging\n",
    "\n",
    "logging.basicConfig(level=logging.ERROR)\n",
    "logging.error(\"An error occurred while processing user input.\")\n",
    "'''e)\tCRITICAL: The highest log level, used to indicate severe errors or critical failures that could lead to application\n",
    "termination.\n",
    "Eg -''' \n",
    "import logging\n",
    "\n",
    "logging.basicConfig(level=logging.CRITICAL)\n",
    "logging.critical(\"Server is down. Application cannot continue.\")\n"
   ]
  },
  {
   "cell_type": "code",
   "execution_count": 6,
   "id": "6ebc7aaa",
   "metadata": {},
   "outputs": [
    {
     "name": "stderr",
     "output_type": "stream",
     "text": [
      "DEBUG:custom_logger:This is a debug message.\n",
      "INFO:custom_logger:This is an info message.\n"
     ]
    }
   ],
   "source": [
    "'''Q7.\tWhat are log formatters in Python logging, and how can you customise the log message format using formatters?\n",
    "Ans: Log formatters in Python logging are responsible for defining the structure and content of log messages that are\n",
    "outputted to various destinations, such as log files, console outputs, or external logging services.\n",
    "\n",
    "Here's an example of how to customize the log message format using formatters:'''\n",
    "\n",
    "import logging\n",
    "\n",
    "# Configure logging\n",
    "logging.basicConfig(level=logging.DEBUG, format='%(asctime)s - %(levelname)s - %(message)s')\n",
    "\n",
    "# Create a custom formatter\n",
    "formatter = logging.Formatter('%(asctime)s - %(levelname)s - %(module)s - %(message)s')\n",
    "\n",
    "# Create a file handler and attach the formatter\n",
    "file_handler = logging.FileHandler('custom.log')\n",
    "file_handler.setFormatter(formatter)\n",
    "\n",
    "# Create a logger and attach the file handler\n",
    "logger = logging.getLogger('custom_logger')\n",
    "logger.addHandler(file_handler)\n",
    "\n",
    "# Example usage\n",
    "logger.debug(\"This is a debug message.\")\n",
    "logger.info(\"This is an info message.\")\n"
   ]
  },
  {
   "cell_type": "code",
   "execution_count": 7,
   "id": "bc97c98a",
   "metadata": {},
   "outputs": [
    {
     "name": "stderr",
     "output_type": "stream",
     "text": [
      "DEBUG:module_name:This is a debug message.\n",
      "INFO:module_name:This is an info message.\n",
      "WARNING:module_name:This is a warning message.\n"
     ]
    }
   ],
   "source": [
    "'''Q8.\tHow can you set up logging to capture log messages from multiple modules or classes in a Python application?\n",
    "Ans: Setting up logging to capture log messages from multiple modules or classes in a Python application involves\n",
    "configuring the logging module and creating loggers for each module or class. Each logger can be configured to use a\n",
    "specific log level, formatter, and output destination. This allows you to have fine-grained control over the logging\n",
    "behavior for different parts of your application.\n",
    "\n",
    "Ans:\n",
    "Steps to setup logging to capture log messages from multiple modules or classes:\n",
    "a)\tImport the logging module: Import the logging module at the beginning of your Python script or module. \n",
    "\n",
    "Code -''' \n",
    "\n",
    "import logging\n",
    "\n",
    "'''b)\tConfigure the logging settings: Configure the logging settings for the root logger using basicConfig. You can\n",
    "set the\n",
    "default log level, format, and output destination for log messages.\n",
    "\n",
    "Code -''' \n",
    "\n",
    "logging.basicConfig(level=logging.DEBUG, format='%(asctime)s - %(levelname)s - %(message)s')\n",
    "\n",
    "'''c)\tCreate loggers for modules or classes: In each module or class that you want to log messages from, create a logger \n",
    "using the logging.getLogger() method. Use a unique name for each logger to distinguish between different parts of your \n",
    "application.\n",
    "\n",
    "Code -''' \n",
    "\n",
    "logger = logging.getLogger('module_name')\n",
    "\n",
    "'''d)\tConfigure the logger settings: Configure each logger with its desired log level, formatter, and output destination.\n",
    "You can create and attach handlers to the logger to specify where the log messages will be written.\n",
    "\n",
    "Code -'''\n",
    "\n",
    "# Create a file handler for the logger\n",
    "file_handler = logging.FileHandler('module_name.log')\n",
    "# Set the desired log level\n",
    "file_handler.setLevel(logging.DEBUG)\n",
    "# Create a formatter for the log messages\n",
    "formatter = logging.Formatter('%(asctime)s - %(levelname)s - %(message)s')\n",
    "# Attach the formatter to the handler\n",
    "file_handler.setFormatter(formatter)\n",
    "# Add the handler to the logger\n",
    "logger.addHandler(file_handler)\n",
    "\n",
    "'''e)\tUse the logger to log messages: In your module or class, use the logger to log messages at various log levels.\n",
    "\n",
    "Code -''' \n",
    "\n",
    "logger.debug(\"This is a debug message.\")\n",
    "logger.info(\"This is an info message.\")\n",
    "logger.warning(\"This is a warning message.\")\n",
    "\n"
   ]
  },
  {
   "cell_type": "code",
   "execution_count": null,
   "id": "1e01382b",
   "metadata": {},
   "outputs": [],
   "source": [
    "Q9.\tWhat is the difference between the logging and print statements in Python? When should you use logging over print\n",
    "statements in a real-world application?\n",
    "Ans: Both logging and print statements are used for displaying information during the execution of a Python program.\n",
    "\n",
    "Logging vs. Print Statements:\n",
    "•\tLogging is for structured, configurable output with different levels (debug, info, warning, error) and contextual\n",
    "information (timestamps, module names).\n",
    "•\tPrint statements are simple, static output to the console, lacking configurability and different message levels.\n",
    "Use Logging Over Print Statements:\n",
    "•\tFor debugging, troubleshooting, and maintaining applications.\n",
    "•\tWhen you need different levels of detail and context.\n",
    "•\tTo control output with configurability, format, and destinations.\n",
    "•\tIn larger projects with collaboration and long-term maintenance.\n"
   ]
  },
  {
   "cell_type": "code",
   "execution_count": 8,
   "id": "3d887c0a",
   "metadata": {},
   "outputs": [
    {
     "name": "stderr",
     "output_type": "stream",
     "text": [
      "INFO:root:Hello, World!\n"
     ]
    }
   ],
   "source": [
    "'''Q10. Write a Python program that logs a message to a file named \"app.log\" with the\n",
    "following requirements:\n",
    "•\tThe log message should be \"Hello, World!\"\n",
    "•\tThe log level should be set to \"INFO.\"\n",
    "•\tThe log file should append new log entries without overwriting previous ones.\n",
    "\n",
    "Ans: Program is as follows:'''\n",
    "\n",
    "import logging\n",
    "\n",
    "# Configure logging\n",
    "logging.basicConfig(filename='app.log', level=logging.INFO, format='%(asctime)s - %(levelname)s - %(message)s')\n",
    "\n",
    "# Log the message\n",
    "logging.info(\"Hello, World!\")\n"
   ]
  },
  {
   "cell_type": "code",
   "execution_count": 9,
   "id": "bd3641f8",
   "metadata": {},
   "outputs": [
    {
     "name": "stderr",
     "output_type": "stream",
     "text": [
      "ERROR:root:Error: division by zero\n",
      "Traceback (most recent call last):\n",
      "  File \"C:\\Users\\Dell\\AppData\\Local\\Temp\\ipykernel_11880\\1074036681.py\", line 17, in divide\n",
      "    result = a / b\n",
      "ZeroDivisionError: division by zero\n"
     ]
    }
   ],
   "source": [
    "'''Q11. Create a Python program that logs an error message to the console and a file named \"errors.log\" if an \n",
    "exception occurs during the program's execution. The error message should include the exception type and a timestamp.\n",
    "\n",
    "Ans: Program is as follows:'''\n",
    "\n",
    "import logging\n",
    "import traceback\n",
    "\n",
    "# Configure logging to log errors to both console and file\n",
    "logging.basicConfig(level=logging.ERROR, format='%(asctime)s - %(levelname)s - %(message)s', handlers=[\n",
    "    logging.FileHandler('errors.log', mode='a'),\n",
    "    logging.StreamHandler()\n",
    "])\n",
    "\n",
    "def divide(a, b):\n",
    "    try:\n",
    "        result = a / b\n",
    "        return result\n",
    "    except ZeroDivisionError as e:\n",
    "        # Log the error with exception type and timestamp\n",
    "        logging.error(\"Error: %s\", e)\n",
    "        traceback.print_exc()\n",
    "\n",
    "\n",
    "try:\n",
    "    result = divide(10, 0)\n",
    "except Exception as e:\n",
    "    # Log the exception type and timestamp\n",
    "    logging.error(\"Exception occurred: %s\", e)\n",
    "    traceback.print_exc()\n"
   ]
  },
  {
   "cell_type": "code",
   "execution_count": null,
   "id": "4ef05c3a",
   "metadata": {},
   "outputs": [],
   "source": []
  },
  {
   "cell_type": "code",
   "execution_count": null,
   "id": "9eb27a28",
   "metadata": {},
   "outputs": [],
   "source": []
  },
  {
   "cell_type": "code",
   "execution_count": null,
   "id": "d696966e",
   "metadata": {},
   "outputs": [],
   "source": []
  },
  {
   "cell_type": "code",
   "execution_count": null,
   "id": "769b291f",
   "metadata": {},
   "outputs": [],
   "source": []
  },
  {
   "cell_type": "code",
   "execution_count": null,
   "id": "db7285c8",
   "metadata": {},
   "outputs": [],
   "source": []
  }
 ],
 "metadata": {
  "kernelspec": {
   "display_name": "Python 3 (ipykernel)",
   "language": "python",
   "name": "python3"
  },
  "language_info": {
   "codemirror_mode": {
    "name": "ipython",
    "version": 3
   },
   "file_extension": ".py",
   "mimetype": "text/x-python",
   "name": "python",
   "nbconvert_exporter": "python",
   "pygments_lexer": "ipython3",
   "version": "3.9.12"
  }
 },
 "nbformat": 4,
 "nbformat_minor": 5
}
