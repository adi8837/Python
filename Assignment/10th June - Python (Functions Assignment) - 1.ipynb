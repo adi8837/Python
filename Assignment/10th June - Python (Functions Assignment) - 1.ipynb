{
 "cells": [
  {
   "cell_type": "markdown",
   "id": "8d6a9bbf",
   "metadata": {},
   "source": [
    "# 10th June - Python (Functions Assignment) - 1"
   ]
  },
  {
   "cell_type": "code",
   "execution_count": 2,
   "id": "917eb9aa",
   "metadata": {},
   "outputs": [
    {
     "name": "stdout",
     "output_type": "stream",
     "text": [
      "Area of rectangle: 50\n"
     ]
    }
   ],
   "source": [
    "'''Q1. In Python, what is the difference between a built-in function and a user-defined function? Provide an\n",
    "example of each.\n",
    "Ans : a) Built-in Function: These are functions that are provided by Python's standard library and are readily available\n",
    "for use without the need for any additional import. Eg - print(), len()\n",
    "b) User-defined functions: These are the functions created by the user. These functions are defined to perform specific\n",
    "tasks and can be reused throughout the code. \n",
    "Eg -''' \n",
    "def rectangle_area(length, width):\n",
    "            return length * width\n",
    "area = rectangle_area(5, 10)\n",
    "print(\"Area of rectangle:\", area)\n"
   ]
  },
  {
   "cell_type": "code",
   "execution_count": null,
   "id": "8a72fb2e",
   "metadata": {},
   "outputs": [],
   "source": [
    "Q2. How can you pass arguments to a function in Python? Explain the difference between positional\n",
    "arguments and keyword arguments.\n",
    "Ans : In Python, we can pass arguments to a function in several ways. When defining a function, we can specify parameters\n",
    "to receive these arguments. When calling the function, we pass the actual values to these parameters. There are two main\n",
    "ways to pass arguments to a function: positional arguments and keyword arguments.\n",
    "a)\tPositional Arguments: Positional arguments are the most common way to pass arguments to a function. They are matched\n",
    "based on their position in the function call. The first argument is assigned to the first parameter, the second argument\n",
    "to the second parameter, and so on. The order of the arguments matters when using positional arguments.\n",
    "b)\tKeyword Arguments: Keyword arguments are passed to a function using the name of the parameter as a keyword, followed\n",
    "    by the value. When using keyword arguments, the order of the arguments does not matter.\n"
   ]
  },
  {
   "cell_type": "code",
   "execution_count": 6,
   "id": "fd25e93a",
   "metadata": {},
   "outputs": [
    {
     "name": "stdout",
     "output_type": "stream",
     "text": [
      "B\n"
     ]
    }
   ],
   "source": [
    "'''Q3. What is the purpose of the return statement in a function? Can a function have multiple return\n",
    "statements? Explain with an example.\n",
    "Ans : The return statement in a function is used to specify the value that the function will send back as the result of\n",
    "its execution. When a return statement is encountered in a function, it immediately terminates the function's execution\n",
    "and returns the specified value to the caller. \n",
    "Yes, a function can have multiple return statements. However, only one return statement is executed during the function's\n",
    "execution. As soon as the first return statement is encountered, the function terminates, and the specified value is\n",
    "returned.\n",
    "Eg -'''\n",
    "\n",
    "def get_grade(score):\n",
    "    if score >= 70:\n",
    "        return \"A\"\n",
    "    elif score >= 40:\n",
    "        return \"B\"\n",
    "    else:\n",
    "        return \"C\"\n",
    "    \n",
    "Grade = print(get_grade(65))\n"
   ]
  },
  {
   "cell_type": "code",
   "execution_count": 7,
   "id": "56906b67",
   "metadata": {},
   "outputs": [
    {
     "name": "stdout",
     "output_type": "stream",
     "text": [
      "8\n"
     ]
    }
   ],
   "source": [
    "'''Q4. What are lambda functions in Python? How are they different from regular functions? Provide an\n",
    "example where a lambda function can be useful.\n",
    "Ans : Lambda functions are single-line functions in Python that can be defined without a name. They are defined using\n",
    "the lambda keyword and are useful for situations where a simple function is needed for a short period of time. They are\n",
    "different from normal functions as their syntax is completed in one line only. Also, Lambda functions are limited to a\n",
    "single expression, while regular functions can contain multiple statements and have a block of code with a return \n",
    "statement.\n",
    "Syntax of lambda function - lambda arguments: expression\n",
    "Eg - '''\n",
    "\n",
    "add = lambda a, b: a + b\n",
    "\n",
    "y = print(add(3,5))\n"
   ]
  },
  {
   "cell_type": "code",
   "execution_count": null,
   "id": "bb05612c",
   "metadata": {},
   "outputs": [],
   "source": [
    "'''Q5. How does the concept of \"scope\" apply to functions in Python? Explain the difference between local\n",
    "scope and global scope.\n",
    "Ans : In Python, the concept of \"scope\" refers to the accessibility of variables within different parts of a program.\n",
    "It determines where a variable can be accessed and modified. Python has two main types of scope: local scope and global\n",
    "scope.\n",
    "a)\tLocal Scope: When a variable is defined inside a function, it belongs to the local scope of that function. This means\n",
    "the variable is only accessible within the function in which it is defined.\n",
    "b)\tGlobal Scope: Variables defined outside any function or at the top level of a module belong to the global scope.\n",
    "Global variables are accessible from any part of the code, including inside functions. To use a global variable inside\n",
    "a function, you need to explicitly declare it using the global keyword.'''\n"
   ]
  },
  {
   "cell_type": "code",
   "execution_count": 8,
   "id": "f970c813",
   "metadata": {},
   "outputs": [
    {
     "name": "stdout",
     "output_type": "stream",
     "text": [
      "('Aditya', 30, 'aditya@google.com')\n"
     ]
    }
   ],
   "source": [
    "'''Q6. How can you use the \"return\" statement in a Python function to return multiple values?\n",
    "Ans :'''  \n",
    "\n",
    "def info():\n",
    "    name = \"Aditya\"\n",
    "    age = 30\n",
    "    email = \"aditya@google.com\"\n",
    "    return name, age, email\n",
    "print(info())\n"
   ]
  },
  {
   "cell_type": "code",
   "execution_count": null,
   "id": "a37c2d76",
   "metadata": {},
   "outputs": [],
   "source": [
    "'''Q7. What is the difference between the \"pass by value\" and \"pass by reference\" concepts when it\n",
    "comes to function arguments in Python?\n",
    "Ans : In Python, the terms \"pass by value\" and \"pass by reference\" are often used to describe how function arguments\n",
    "are handled.\n",
    "a)\tPass by Value: In \"pass by value,\" the function receives a copy of the actual value of the argument passed to it.\n",
    "Any changes made to the parameter within the function do not affect the original value outside the function. The function\n",
    "works with its own local copy of the variable.\n",
    "b)\tPass by Reference: In \"pass by reference,\" the function receives a reference (memory address) to the original variable.\n",
    "Any changes made to the parameter within the function directly affect the original value outside the function.\n",
    "Python's argument-passing mechanism involves both \"pass by value\" for immutable objects and \"pass by reference\" for \n",
    "mutable objects.'''\n"
   ]
  },
  {
   "cell_type": "code",
   "execution_count": 9,
   "id": "000e431c",
   "metadata": {},
   "outputs": [
    {
     "name": "stdout",
     "output_type": "stream",
     "text": [
      "Give a value : 23\n",
      "Give a function (power/log/exp/sq_rt) : power\n",
      "529.0\n"
     ]
    }
   ],
   "source": [
    "'''Q8. Create a function that can intake integer or decimal value and do following operations:\n",
    "a. Logarithmic function (log x)\n",
    "b. Exponential function (exp(x))\n",
    "c. Power function with base 2 (2x)\n",
    "d. Square root\n",
    "Ans :''' \n",
    "\n",
    "import math\n",
    "def cal():\n",
    "    var = float(input(\"Give a value : \"))\n",
    "    func = input(\"Give a function (power/log/exp/sq_rt) : \")\n",
    "    result = None\n",
    "    if func == \"power\":\n",
    "        result = pow(var,2)\n",
    "    elif func == \"log\":\n",
    "        result = math.log(var)\n",
    "    elif func == \"exp\":\n",
    "        result = math.exp(var)\n",
    "    elif func == \"sq_rt\":\n",
    "        result = math.sqrt(var)\n",
    "    else:\n",
    "        return \"TRY AGAIN\"\n",
    "    return result\n",
    "    \n",
    "print(cal())\n"
   ]
  },
  {
   "cell_type": "code",
   "execution_count": 12,
   "id": "e38b6b6a",
   "metadata": {},
   "outputs": [
    {
     "name": "stdout",
     "output_type": "stream",
     "text": [
      "Enter your full name: Aditya Ghoshal\n",
      "First Name: Aditya\n",
      "Last Name: Ghoshal\n"
     ]
    }
   ],
   "source": [
    "'''Q9. Create a function that takes a full name as an argument and returns first name and last name.\t\n",
    "Ans :''' \n",
    "def get_full_name():\n",
    "    full_name = input(\"Enter your full name: \")\n",
    "    names = full_name.split()\n",
    "    first_name = names[0]\n",
    "    last_name = names[1]\n",
    "    return first_name, last_name\n",
    "\n",
    "first_name, last_name = get_full_name()\n",
    "\n",
    "print(\"First Name:\", first_name)\n",
    "print(\"Last Name:\", last_name)\n"
   ]
  },
  {
   "cell_type": "code",
   "execution_count": null,
   "id": "6be53955",
   "metadata": {},
   "outputs": [],
   "source": []
  },
  {
   "cell_type": "code",
   "execution_count": null,
   "id": "7fe5d567",
   "metadata": {},
   "outputs": [],
   "source": []
  },
  {
   "cell_type": "code",
   "execution_count": null,
   "id": "692fa2b3",
   "metadata": {},
   "outputs": [],
   "source": []
  },
  {
   "cell_type": "code",
   "execution_count": null,
   "id": "9ed94655",
   "metadata": {},
   "outputs": [],
   "source": []
  },
  {
   "cell_type": "code",
   "execution_count": null,
   "id": "c4310914",
   "metadata": {},
   "outputs": [],
   "source": []
  },
  {
   "cell_type": "code",
   "execution_count": null,
   "id": "7a4bd02e",
   "metadata": {},
   "outputs": [],
   "source": []
  }
 ],
 "metadata": {
  "kernelspec": {
   "display_name": "Python 3 (ipykernel)",
   "language": "python",
   "name": "python3"
  },
  "language_info": {
   "codemirror_mode": {
    "name": "ipython",
    "version": 3
   },
   "file_extension": ".py",
   "mimetype": "text/x-python",
   "name": "python",
   "nbconvert_exporter": "python",
   "pygments_lexer": "ipython3",
   "version": "3.9.12"
  }
 },
 "nbformat": 4,
 "nbformat_minor": 5
}
