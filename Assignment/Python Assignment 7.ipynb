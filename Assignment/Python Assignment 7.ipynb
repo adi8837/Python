{
 "cells": [
  {
   "cell_type": "code",
   "execution_count": 5,
   "id": "e6bfaf80-ca0a-49a9-a38a-1ecf2f9e930f",
   "metadata": {},
   "outputs": [
    {
     "name": "stdout",
     "output_type": "stream",
     "text": [
      "First variable is 225 & second variable is 15.\n",
      "Addition: 225 + 15 = 240\n",
      "Subtraction: 225 - 15 = 210\n",
      "Multiplication: 225 * 15 = 3375\n",
      "Division: 225 / 15 = 15.0\n"
     ]
    }
   ],
   "source": [
    "\"\"\" Q1 : Q.1. Create two int type variables, apply addition, subtraction, division and multiplications\n",
    "and store the results in variables. Then print the data in the following format by calling the\n",
    "variables:\n",
    "First variable is __ & second variable is __.\n",
    "Addition: __ + __ = __\n",
    "Subtraction: __ - __ = __\n",
    "Multiplication: __ * __ = __\n",
    "Division: __ / __ = __\n",
    "\n",
    "Ans : \"\"\"\n",
    "variable1 = 225\n",
    "variable2 = 15\n",
    "\n",
    "addition = variable1 + variable2\n",
    "subtraction = variable1 - variable2\n",
    "multiplication = variable1 * variable2\n",
    "division = variable1 / variable2\n",
    "\n",
    "print(f\"First variable is {variable1} & second variable is {variable2}.\")\n",
    "print(f\"Addition: {variable1} + {variable2} = {addition}\")\n",
    "print(f\"Subtraction: {variable1} - {variable2} = {subtraction}\")\n",
    "print(f\"Multiplication: {variable1} * {variable2} = {multiplication}\")\n",
    "print(f\"Division: {variable1} / {variable2} = {division}\")"
   ]
  },
  {
   "cell_type": "code",
   "execution_count": 16,
   "id": "dfa1c92a-e0ba-4b17-954d-0cd21aa1a558",
   "metadata": {},
   "outputs": [
    {
     "name": "stdout",
     "output_type": "stream",
     "text": [
      "a =  3.5\n",
      "b =  3\n",
      "c =  8\n",
      "d =  14\n"
     ]
    }
   ],
   "source": [
    "\"\"\" Q2 : What is the difference between the following operators:\n",
    "(i) ‘/’ & ‘//’\n",
    "(ii) ‘**’ & ‘^’\n",
    "\n",
    "Ans : (i) The '/' operator performs regular division and returns a floating-point result, while the '//' operator performs floor\n",
    "division and returns the integer quotient.\n",
    "Eg:\"\"\"\n",
    "a = 7/2\n",
    "print(\"a = \",a)\n",
    "b = 7//2\n",
    "print(\"b = \",b)\n",
    "\n",
    "\"\"\"(ii) The '**' operator is used for exponentiation, raising a number to a power, while the '^' operator is a bitwise XOR operator,\n",
    "not used for exponentiation in Python.\n",
    "Eg:\"\"\"\n",
    "\n",
    "c = 2**3\n",
    "print(\"c = \",c)\n",
    "d = 10^4\n",
    "print(\"d = \",d)"
   ]
  },
  {
   "cell_type": "code",
   "execution_count": null,
   "id": "18974457-ed72-4e67-8567-6deeae0da468",
   "metadata": {},
   "outputs": [],
   "source": [
    "\"\"\" Q3 : List the logical operators.\n",
    "\n",
    "Ans : The logical operators are:\n",
    "\n",
    "1. AND: represented by 'and'. It returns True if both operands are True, otherwise False.\n",
    "\n",
    "2. OR: represented by 'or'. It returns True if at least one of the operands is True, otherwise False.\n",
    "\n",
    "3. NOT: represented by 'not'. It returns the opposite boolean value of the operand. If the operand is True,\n",
    "it returns False, and vice versa.\"\"\""
   ]
  },
  {
   "cell_type": "code",
   "execution_count": 19,
   "id": "deca0bbd-500f-4703-b55f-465a8ca21665",
   "metadata": {},
   "outputs": [
    {
     "name": "stdout",
     "output_type": "stream",
     "text": [
      "2\n",
      "20\n"
     ]
    }
   ],
   "source": [
    "\"\"\" Q4 : Explain right shift operator and left shift operator with examples.\n",
    "\n",
    "Ans : 1. Right Shift Operator (>>):\n",
    "The right shift operator (>>) shifts the bits of a number in binary to the right by a specified number of positions. \n",
    "Each shift to the right divides the number by 2.\n",
    "Eg:\"\"\"\n",
    "a = 10  # In Binary: 00001010\n",
    "shifted_a = a >> 2  # Right shift by 2 positions\n",
    "# In Binary: 00000010\n",
    "print(shifted_a)\n",
    "\n",
    "\"\"\"Left Shift Operator (<<):\n",
    "The left shift operator (<<) shifts the bits of a number in binary to the left by a specified number of positions. Each shift to the\n",
    "left multiplies the number by 2.\n",
    "Eg:\"\"\"\n",
    "b = 5  # In Binary: 00000101\n",
    "shifted_b = b << 2  # Left shift by 2 positions\n",
    "# In Binary: 00010100\n",
    "print(shifted_b)"
   ]
  },
  {
   "cell_type": "code",
   "execution_count": 21,
   "id": "d742efe9-a327-4385-b090-452ab91372b3",
   "metadata": {},
   "outputs": [
    {
     "name": "stdout",
     "output_type": "stream",
     "text": [
      "10 is present in my list.\n"
     ]
    }
   ],
   "source": [
    "\"\"\" Q5 : Create a list containing int type data of length 15. Then write a code to check if 10 is\n",
    "present in the list or not.\n",
    "\n",
    "Ans :\"\"\"\n",
    "\n",
    "my_list = [5, 2, 8, 10, 3, 7, 1, 9, 6, 4, 11, 13, 15, 12, 14]\n",
    "\n",
    "if 10 in my_list:\n",
    "    print(\"10 is present in my list.\")\n",
    "else:\n",
    "    print(\"10 is not present in my list.\")"
   ]
  },
  {
   "cell_type": "code",
   "execution_count": null,
   "id": "338c92ea-fc48-484c-9086-f6918fbe615f",
   "metadata": {},
   "outputs": [],
   "source": []
  }
 ],
 "metadata": {
  "kernelspec": {
   "display_name": "Python 3 (ipykernel)",
   "language": "python",
   "name": "python3"
  },
  "language_info": {
   "codemirror_mode": {
    "name": "ipython",
    "version": 3
   },
   "file_extension": ".py",
   "mimetype": "text/x-python",
   "name": "python",
   "nbconvert_exporter": "python",
   "pygments_lexer": "ipython3",
   "version": "3.10.6"
  }
 },
 "nbformat": 4,
 "nbformat_minor": 5
}
