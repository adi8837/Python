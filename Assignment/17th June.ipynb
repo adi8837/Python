{
 "cells": [
  {
   "cell_type": "markdown",
   "id": "dcab6145",
   "metadata": {},
   "source": [
    "# 17th June"
   ]
  },
  {
   "cell_type": "code",
   "execution_count": null,
   "id": "c2cc5a80",
   "metadata": {},
   "outputs": [],
   "source": [
    "Q1.\tWhat is the role of try and exception block?\n",
    "Ans: The try and except blocks in programming are used for handling exceptions, which are unexpected or erroneous events\n",
    "    that can occur during the execution of code. They allow you to handle errors and prevent your program from crashing\n",
    "    when something goes wrong.\n"
   ]
  },
  {
   "cell_type": "code",
   "execution_count": null,
   "id": "b0455daf",
   "metadata": {},
   "outputs": [],
   "source": [
    "Q2.\tWhat is the syntax for a basic try-except block?\n",
    "Ans: The syntax is as follows:\n",
    "try:\n",
    "    # Code that might raise an exception\n",
    "except SomeException:\n",
    "    # Code to handle the exception\n"
   ]
  },
  {
   "cell_type": "code",
   "execution_count": null,
   "id": "7be53ab2",
   "metadata": {},
   "outputs": [],
   "source": [
    "Q3.What happens if an exception occurs inside a try block and there is no matching\n",
    "except block?\n",
    "Ans: If there’s no matching except block, the program will terminate and display an error message.\n"
   ]
  },
  {
   "cell_type": "code",
   "execution_count": null,
   "id": "8482f79f",
   "metadata": {},
   "outputs": [],
   "source": [
    "Q4.What is the difference between using a bare except block and specifying a specific\n",
    "exception type?\n",
    "Ans: Using a bare except block and specifying a specific exception type in a try-except statement have significant\n",
    "    differences in terms of error handling and program behavior.\n",
    "\n",
    "a)\tBare except Block: A bare except block, also known as a generic except block, catches any exception that might\n",
    "    occur within the try block. It doesnt specify a particular exception type. While it can be useful for capturing\n",
    "    unexpected errors and preventing your program from crashing, it can also make debugging and error identification \n",
    "    difficult because we are not explicitly handling specific exceptions\n",
    "b)\tSpecifying a Specific Exception Type: When you specify a specific exception type in an except block, you are \n",
    "    explicitly handling only that particular type of exception. This approach provides better control and clarity in\n",
    "    your error handling, allowing you to respond appropriately to different types of errors.\n"
   ]
  },
  {
   "cell_type": "code",
   "execution_count": 1,
   "id": "f7117ff1",
   "metadata": {},
   "outputs": [
    {
     "name": "stdout",
     "output_type": "stream",
     "text": [
      "Enter a number: 0\n",
      "Inner: Cannot divide by zero.\n"
     ]
    }
   ],
   "source": [
    "'''Q5.\tCan you have nested try-except blocks in Python? If yes, then give an example.\n",
    "Ans: Yes, we can have nested try-except blocks in Python. Nesting try-except blocks allows you to handle different\n",
    "levels of exceptions in a structured manner. Each nested block can have its own set of try and except statements to\n",
    "handle specific exceptions at different levels of code execution.\n",
    "Eg:'''\n",
    "try:\n",
    "    x = int(input(\"Enter a number: \"))\n",
    "    try:\n",
    "        result = 10 / x\n",
    "        print(\"Result:\", result)\n",
    "    except ZeroDivisionError:\n",
    "        print(\"Inner: Cannot divide by zero.\")\n",
    "except ValueError:\n",
    "    print(\"Outer: Invalid input. Please enter a valid number.\")\n"
   ]
  },
  {
   "cell_type": "code",
   "execution_count": 3,
   "id": "dfda40e1",
   "metadata": {},
   "outputs": [
    {
     "name": "stdout",
     "output_type": "stream",
     "text": [
      "Enter a number: rg\n",
      "Invalid input. Please enter a valid number.\n"
     ]
    }
   ],
   "source": [
    "'''Q6.\tCan we use multiple exception blocks, if yes then give an example.\n",
    "Ans: Yes, we can use multiple except blocks in a try-except statement to handle different types of exceptions.\n",
    "Eg -'''\n",
    "try:\n",
    "    x = int(input(\"Enter a number: \"))\n",
    "    result = 10 / x\n",
    "    print(\"Result:\", result)\n",
    "except ValueError:\n",
    "    print(\"Invalid input. Please enter a valid number.\")\n",
    "except ZeroDivisionError:\n",
    "    print(\"Cannot divide by zero.\")\n",
    "except Exception as e:\n",
    "    print(\"An error occurred:\", e)\n"
   ]
  },
  {
   "cell_type": "code",
   "execution_count": null,
   "id": "8cb78c89",
   "metadata": {},
   "outputs": [],
   "source": [
    "Q7.\tWrite the reason due to which following errors are raised:\n",
    "a.\tEOFError\n",
    "b.\tFloatingPointError\n",
    "c.\tIndexError\n",
    "d.\tMemoryError\n",
    "e.\tOverflowError\n",
    "f.\tTabError\n",
    "g.\tValueError\n",
    "\n",
    "Ans: The errors are as follows:\n",
    "i.\tEOFError: This error occurs when the built-in input() function encounters an end-of-file condition, typically when \n",
    "    trying to read input from the user and the user signals the end of input (e.g., by pressing Ctrl+D in Unix-like \n",
    "    systems or Ctrl+Z in Windows). It indicates that there is no more input available to read.\n",
    "    \n",
    "ii.\tFloatingPointError: This error occurs when a floating-point arithmetic operation results in an exceptional condition,\n",
    "    such as division by zero or an overflow or underflow of the representable range for floating-point numbers.\n",
    "    \n",
    "iii.\tIndexError: This error occurs when you try to access an index of a sequence (like a list or a string) that is\n",
    "    out of range. In other words, you are trying to access an element at an index that doesnt exist.\n",
    "    \n",
    "iv.\tMemoryError: This error occurs when the Python interpreter runs out of available memory to allocate for new objects.\n",
    "    It indicates that your program has exhausted the available system memory.\n",
    "    \n",
    "v.\tOverflowError: This error occurs when a mathematical operation (such as addition or multiplication) results in a\n",
    "    value that exceeds the maximum representable value for a numeric type.\n",
    "    \n",
    "vi.\tTabError: This error occurs when the indentation in your Python code mix spaces and tabs inconsistently. Python uses\n",
    "    indentation to define block structures, and mixing spaces and tabs for indentation can lead to a TabError.\n",
    "    \n",
    "vii.\tValueError: This error occurs when a function receives an argument of the correct data type but with an invalid\n",
    "    value. For example, attempting to convert a string that is not a valid integer to an integer using int() will raise\n",
    "    a ValueError.\n",
    "\n"
   ]
  },
  {
   "cell_type": "code",
   "execution_count": 4,
   "id": "c8d376e5",
   "metadata": {},
   "outputs": [
    {
     "name": "stdout",
     "output_type": "stream",
     "text": [
      "Enter the numerator: 34\n",
      "Enter the denominator: 0\n",
      "Error: Cannot divide by zero.\n",
      "Enter an integer: Aditya\n",
      "Error: Invalid input. Please enter a valid integer.\n",
      "Enter an index: 6\n",
      "Error: Index out of range.\n",
      "Enter a number: Aditya\n",
      "ValueError: invalid literal for int() with base 10: 'Aditya'\n",
      "Enter a number: 0\n",
      "An error occurred: division by zero\n"
     ]
    }
   ],
   "source": [
    "'''Q8.\tWrite code for the following given scenario and add try-exception block to it.\n",
    "a.\tProgram to divide two numbers\n",
    "b.\tProgram to convert a string to an integer\n",
    "c.\tProgram to access an element in a list\n",
    "d.\tProgram to handle a specific exception\n",
    "e.\tProgram to handle any exception\n",
    "Ans: The codes for the the following scenarios are as follows:\n",
    "a.\tProgram to divide two numbers -'''\n",
    "try:\n",
    "    numerator = float(input(\"Enter the numerator: \"))\n",
    "    denominator = float(input(\"Enter the denominator: \"))\n",
    "    result = numerator / denominator\n",
    "    print(\"Result:\", result)\n",
    "except ZeroDivisionError:\n",
    "    print(\"Error: Cannot divide by zero.\")\n",
    "except ValueError:\n",
    "    print(\"Error: Please enter valid numeric inputs.\")\n",
    "\n",
    "'''b.\tProgram to convert a string to an integer –'''\n",
    "try:\n",
    "    input_string = input(\"Enter an integer: \")\n",
    "    number = int(input_string)\n",
    "    print(\"Successfully converted to integer:\", number)\n",
    "except ValueError:\n",
    "    print(\"Error: Invalid input. Please enter a valid integer.\")\n",
    "\n",
    "'''c.\tProgram to access an element in a list – '''\n",
    "try:\n",
    "    my_list = [1, 2, 3, 4, 5]\n",
    "    index = int(input(\"Enter an index: \"))\n",
    "    value = my_list[index]\n",
    "    print(\"Value at index\", index, \"is:\", value)\n",
    "except IndexError:\n",
    "    print(\"Error: Index out of range.\")\n",
    "except ValueError:\n",
    "    print(\"Error: Invalid index input. Please enter a valid integer.\")\n",
    "\n",
    "'''d.\tProgram to handle a specific exception:'''\n",
    "try:\n",
    "    x = int(input(\"Enter a number: \"))\n",
    "    if x < 0:\n",
    "        raise ValueError(\"Number must be positive.\")\n",
    "    print(\"Number entered:\", x)\n",
    "except ValueError as ve:\n",
    "    print(\"ValueError:\", ve)\n",
    "\n",
    "'''e.\tProgram to handle any exception:'''\n",
    "try:\n",
    "    x = int(input(\"Enter a number: \"))\n",
    "    result = 10 / x\n",
    "    print(\"Result:\", result)\n",
    "except Exception as e:\n",
    "    print(\"An error occurred:\", e)\n"
   ]
  },
  {
   "cell_type": "code",
   "execution_count": null,
   "id": "6fd8b18d",
   "metadata": {},
   "outputs": [],
   "source": []
  },
  {
   "cell_type": "code",
   "execution_count": null,
   "id": "bed511e0",
   "metadata": {},
   "outputs": [],
   "source": []
  },
  {
   "cell_type": "code",
   "execution_count": null,
   "id": "01d6c2c3",
   "metadata": {},
   "outputs": [],
   "source": []
  },
  {
   "cell_type": "code",
   "execution_count": null,
   "id": "ab3feeef",
   "metadata": {},
   "outputs": [],
   "source": []
  },
  {
   "cell_type": "code",
   "execution_count": null,
   "id": "ce345c04",
   "metadata": {},
   "outputs": [],
   "source": []
  },
  {
   "cell_type": "code",
   "execution_count": null,
   "id": "35dbe657",
   "metadata": {},
   "outputs": [],
   "source": []
  },
  {
   "cell_type": "code",
   "execution_count": null,
   "id": "973f708c",
   "metadata": {},
   "outputs": [],
   "source": []
  },
  {
   "cell_type": "code",
   "execution_count": null,
   "id": "a8b9cdf5",
   "metadata": {},
   "outputs": [],
   "source": []
  },
  {
   "cell_type": "code",
   "execution_count": null,
   "id": "176dcfa6",
   "metadata": {},
   "outputs": [],
   "source": []
  },
  {
   "cell_type": "code",
   "execution_count": null,
   "id": "0a3542e9",
   "metadata": {},
   "outputs": [],
   "source": []
  },
  {
   "cell_type": "code",
   "execution_count": null,
   "id": "1c3194fe",
   "metadata": {},
   "outputs": [],
   "source": []
  },
  {
   "cell_type": "code",
   "execution_count": null,
   "id": "3d1e0ee1",
   "metadata": {},
   "outputs": [],
   "source": []
  }
 ],
 "metadata": {
  "kernelspec": {
   "display_name": "Python 3 (ipykernel)",
   "language": "python",
   "name": "python3"
  },
  "language_info": {
   "codemirror_mode": {
    "name": "ipython",
    "version": 3
   },
   "file_extension": ".py",
   "mimetype": "text/x-python",
   "name": "python",
   "nbconvert_exporter": "python",
   "pygments_lexer": "ipython3",
   "version": "3.9.12"
  }
 },
 "nbformat": 4,
 "nbformat_minor": 5
}
