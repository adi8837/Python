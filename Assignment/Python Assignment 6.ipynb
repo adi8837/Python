{
 "cells": [
  {
   "cell_type": "code",
   "execution_count": 1,
   "id": "730a24e4-7a4d-4c30-b72f-ab897e2ae60b",
   "metadata": {},
   "outputs": [
    {
     "name": "stdout",
     "output_type": "stream",
     "text": [
      "['False', 'None', 'True', 'and', 'as', 'assert', 'async', 'await', 'break', 'class', 'continue', 'def', 'del', 'elif', 'else', 'except', 'finally', 'for', 'from', 'global', 'if', 'import', 'in', 'is', 'lambda', 'nonlocal', 'not', 'or', 'pass', 'raise', 'return', 'try', 'while', 'with', 'yield']\n"
     ]
    }
   ],
   "source": [
    "\"\"\" Q1 : What are keywords in python? Using the keyword library, print all the python keywords.\n",
    "Ans : Keywords in Python are reserved words that have predefined meanings and cannot be used as identifiers (variable names, \n",
    "function names etc).They are part of syntax and serve specific purpose.\"\"\"\n",
    "\n",
    "import keyword\n",
    "\n",
    "a = keyword.kwlist\n",
    "print(a)\n"
   ]
  },
  {
   "cell_type": "code",
   "execution_count": null,
   "id": "8235cb3a-bd4c-4eac-8aa8-e9323b2a1fcc",
   "metadata": {},
   "outputs": [],
   "source": [
    "\"\"\" Q2 : What are the rules to create variables in python?\n",
    "Ans : Rules are as follows:\n",
    "\n",
    "1. Variable names can contain letters, digits, and underscores only.\n",
    "2. Variable names must start with a letter or an underscore, and cannot start with a digit.\n",
    "3. Python is case-sensitive, so variables with different letter casing are considered distinct.\n",
    "4. Avoid using reserved keywords as variable names.\"\"\""
   ]
  },
  {
   "cell_type": "code",
   "execution_count": null,
   "id": "f8aa112a-b132-4282-b18e-f9a0efc9cd74",
   "metadata": {},
   "outputs": [],
   "source": [
    "\"\"\" Q3 : What are the standards and conventions followed for the nomenclature of variables in python to improve \n",
    "code readability and maintainability?\n",
    "Ans : Pointers are as follows:\n",
    "1. Use descriptive and meaningful names throughout the code.\n",
    "2. Use lowercase letters with underscores (snake_case).\n",
    "3. Avoid single-letter names unless they have a specific purpose.\n",
    "4. Be consistent with naming style.\n",
    "5. Avoid using reserved words and built-in names.\n",
    "6. Use meaningful abbreviations when widely understood.\"\"\""
   ]
  },
  {
   "cell_type": "code",
   "execution_count": null,
   "id": "9c74c481-b37a-4003-ae28-90fbe8e24032",
   "metadata": {},
   "outputs": [],
   "source": [
    "\"\"\" Q4 : What will happen if a keyword is used as a variable name?\n",
    "Ans : If a keyword is used as a variable name in Python, it will result in a syntax error.\"\"\""
   ]
  },
  {
   "cell_type": "code",
   "execution_count": null,
   "id": "2d556947-82f4-4f86-9fbe-6d25e62caae6",
   "metadata": {},
   "outputs": [],
   "source": [
    "\"\"\" Q5 : For what purpose def keyword is used?\n",
    "Ans : The def keyword in Python is used to define a function. It is followed by the function name and a set of parentheses, \n",
    "which may contain parameters for the function. The function definition is then followed by a colon (:), and the indented block\n",
    "of code that constitutes the function body.\"\"\""
   ]
  },
  {
   "cell_type": "code",
   "execution_count": null,
   "id": "bb5678b8-cad1-459d-b492-3350af0c0213",
   "metadata": {},
   "outputs": [],
   "source": [
    "\"\"\" Q6 : What is the operation of this special character ‘\\’?\n",
    "Ans : This is the backslash or escape character. It is used to escape or provide special meaning to certain characters \n",
    "in strings and other literals.\"\"\""
   ]
  },
  {
   "cell_type": "code",
   "execution_count": 2,
   "id": "a9e2b08b-ab92-4472-abc0-03a615e62e9b",
   "metadata": {},
   "outputs": [],
   "source": [
    "\"\"\" Q7 : Give an example of the following conditions:\n",
    "(i) Homogeneous list\n",
    "(ii) Heterogeneous set\n",
    "(iii) Homogeneous tuple\"\"\"\n",
    "# Ans : (i) Homogeneous list\n",
    "a = [1, 2, 3, 4, 5]\n",
    "# (ii) Heterogeneous set\n",
    "b = {5, 'grapes', True, 2.2}\n",
    "#(iii) Homogeneous tuple\n",
    "c = ('Gavaskar', 'Kohli', 'Sachin')"
   ]
  },
  {
   "cell_type": "code",
   "execution_count": null,
   "id": "e6583a44-c2a7-48b8-8ac8-813b8e09d5d4",
   "metadata": {},
   "outputs": [],
   "source": [
    "\"\"\" Q8 : Explain the mutable and immutable data types with proper explanation & examples.\n",
    "Ans : \n",
    "1. Mutable Data Types:\n",
    "Mutable data types are those whose values can be modified in-place even after they are created without creating a new object. \n",
    "Eg : List and Set\"\"\"\n",
    "\n",
    "a = [1, 2, 3]\n",
    "a.append(4)  \n",
    "b = {1, 2, 3}\n",
    "b.add(4)\n",
    "\n",
    "\"\"\"2. Immutable Data Types:\n",
    "Immutable data types are those whose values cannot be modified after they are created. If you need to change the value, \n",
    "a new object is created with the updated value.\n",
    "Eg : String and Tuple\"\"\"\n",
    "\n",
    "c = \"Hello\"\n",
    "d = c + \" World\"\n",
    "\n",
    "e = (1, 2, 3)\n",
    "f = e + (4,)\n",
    "\n",
    "#In both these examples new objects are created\n"
   ]
  },
  {
   "cell_type": "code",
   "execution_count": 11,
   "id": "3fa7a838-eb73-483c-b655-f8620cd869c4",
   "metadata": {},
   "outputs": [
    {
     "name": "stdout",
     "output_type": "stream",
     "text": [
      "    *\n",
      "   ***\n",
      "  *****\n",
      " *******\n",
      "*********\n"
     ]
    }
   ],
   "source": [
    "\"\"\" Q9 : Write a code to create the given structure using only for loop.\n",
    "    *\n",
    "   ***\n",
    "  *****\n",
    " *******\n",
    "*********\n",
    "Ans : \"\"\"\n",
    "rows = 5\n",
    "\n",
    "for i in range(rows):\n",
    "    spaces = rows - i - 1\n",
    "    stars = 2*i + 1\n",
    "    print(\" \" * spaces + \"*\" * stars)"
   ]
  },
  {
   "cell_type": "code",
   "execution_count": 4,
   "id": "37db5df0-107d-407e-ac8c-a8d3ea4393ab",
   "metadata": {},
   "outputs": [
    {
     "name": "stdout",
     "output_type": "stream",
     "text": [
      "|||||||||\n",
      " |||||||\n",
      "  |||||\n",
      "   |||\n",
      "    |\n"
     ]
    }
   ],
   "source": [
    "\"\"\" Q10 : Write a code to create the given structure using while loop.\n",
    "|||||||||\n",
    " |||||||\n",
    "  |||||\n",
    "   |||\n",
    "    |\n",
    "Ans : \"\"\"\n",
    "\n",
    "rows = 5\n",
    "i = 0\n",
    "while i < rows:\n",
    "    lines = 2*rows - 2*i -1\n",
    "    spaces = i\n",
    "    print(\" \"*spaces + \"|\"*lines)\n",
    "    i += 1"
   ]
  },
  {
   "cell_type": "code",
   "execution_count": null,
   "id": "478152cf-8817-4665-9a51-8145f4026837",
   "metadata": {},
   "outputs": [],
   "source": []
  },
  {
   "cell_type": "code",
   "execution_count": null,
   "id": "3008d11b-44f0-46c0-ba41-fc5aee550a17",
   "metadata": {},
   "outputs": [],
   "source": []
  },
  {
   "cell_type": "code",
   "execution_count": null,
   "id": "f79503ca-0ccd-47a8-8d22-332f26570c7a",
   "metadata": {},
   "outputs": [],
   "source": []
  },
  {
   "cell_type": "code",
   "execution_count": null,
   "id": "159731c9-be67-4f42-923d-558a6ecff50b",
   "metadata": {},
   "outputs": [],
   "source": []
  },
  {
   "cell_type": "code",
   "execution_count": null,
   "id": "5c3d8743-b1c3-449f-bfe2-d8a2a4efb9a5",
   "metadata": {},
   "outputs": [],
   "source": []
  },
  {
   "cell_type": "code",
   "execution_count": null,
   "id": "e4e726a0-6de5-43c2-9f37-b17c830f69ae",
   "metadata": {},
   "outputs": [],
   "source": []
  },
  {
   "cell_type": "code",
   "execution_count": null,
   "id": "f76e6676-592d-4b41-ab3d-121709207214",
   "metadata": {},
   "outputs": [],
   "source": []
  },
  {
   "cell_type": "code",
   "execution_count": null,
   "id": "148eac4a-111b-41cd-805f-ca8ac29b468f",
   "metadata": {},
   "outputs": [],
   "source": []
  }
 ],
 "metadata": {
  "kernelspec": {
   "display_name": "Python 3 (ipykernel)",
   "language": "python",
   "name": "python3"
  },
  "language_info": {
   "codemirror_mode": {
    "name": "ipython",
    "version": 3
   },
   "file_extension": ".py",
   "mimetype": "text/x-python",
   "name": "python",
   "nbconvert_exporter": "python",
   "pygments_lexer": "ipython3",
   "version": "3.10.6"
  }
 },
 "nbformat": 4,
 "nbformat_minor": 5
}
