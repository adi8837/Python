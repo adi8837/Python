{
 "cells": [
  {
   "cell_type": "markdown",
   "id": "f977f6a8",
   "metadata": {},
   "source": [
    "# 11th June - Python (Functions Assignment) - 1"
   ]
  },
  {
   "cell_type": "code",
   "execution_count": null,
   "id": "c600c04d",
   "metadata": {},
   "outputs": [],
   "source": [
    "'''Q1. What is a lambda function in Python, and how does it differ from a regular function?\n",
    "Ans : In Python, a lambda function is an anonymous function that can have any number of arguments but can only have one\n",
    "expression. Lambda functions are defined using the lambda keyword, followed by the arguments and the expression.\n",
    "The main differences between lambda functions and regular functions are:\n",
    "a)\tSyntax: Lambda functions use a compact syntax with the lambda keyword, while regular functions are defined using the\n",
    "def keyword.\n",
    "b)\tName: Lambda functions are anonymous; they don't have a name. Therefore, they are typically used when the function is\n",
    "simple and won't be referred to elsewhere in the code.\n",
    "c)\tNumber of expressions: Lambda functions can only have one expression. This means they cannot contain multiple\n",
    "statements or complex logic like regular functions.\n",
    "d)\tReturn value: Lambda functions automatically return the value of the expression without needing an explicit return\n",
    "statement. In contrast, regular functions require a return statement to return a value.\n",
    "e)\tScope: Lambda functions can access variables from the surrounding scope, similar to regular functions and other Python\n",
    "objects. However, it's essential to understand the concept of closures when dealing with lambda functions and accessing\n",
    "variables from the enclosing scope.'''\n"
   ]
  },
  {
   "cell_type": "code",
   "execution_count": 3,
   "id": "0d8131b7",
   "metadata": {},
   "outputs": [
    {
     "name": "stdout",
     "output_type": "stream",
     "text": [
      "8\n"
     ]
    }
   ],
   "source": [
    "'''Q2. Can a lambda function in Python have multiple arguments? If yes, how can you define and use\n",
    "them?\n",
    "Ans : Yes, a lambda function in Python can have multiple arguments.\n",
    "\n",
    "lambda arg1, arg2, ..., argN: expression\n",
    "Eg - '''\n",
    "\n",
    "add = lambda x, y: x + y\n",
    "addition = add(5, 3)\n",
    "print(addition)\n"
   ]
  },
  {
   "cell_type": "code",
   "execution_count": 4,
   "id": "de4e845b",
   "metadata": {},
   "outputs": [
    {
     "name": "stdout",
     "output_type": "stream",
     "text": [
      "[{'name': 'Bob', 'age': 20}, {'name': 'Charlie', 'age': 22}, {'name': 'Alice', 'age': 25}]\n"
     ]
    }
   ],
   "source": [
    "'''Q3. How are lambda functions typically used in Python? Provide an example use case.\n",
    "Ans : Lambda functions in Python are typically used for small, simple tasks where defining a full-fledged named function\n",
    "is not required. \n",
    "Lambda functions are used for sorting. Eg –''' \n",
    "\n",
    "students = [{'name': 'Alice', 'age': 25},\n",
    "    {'name': 'Bob', 'age': 20},\n",
    "    {'name': 'Charlie', 'age': 22}]\n",
    "sorted_students = sorted(students, key=lambda x: x['age'])\n",
    "print(sorted_students)\n"
   ]
  },
  {
   "cell_type": "code",
   "execution_count": null,
   "id": "4c5b4664",
   "metadata": {},
   "outputs": [],
   "source": [
    "'''Q4. What are the advantages and limitations of lambda functions compared to regular functions in\n",
    "Python?\n",
    "Ans : Advantages of Lambda Functions:\n",
    "a)\tConcise Syntax: Lambda functions have a compact syntax, making them suitable for short and simple operations.\n",
    "b)\tAnonymous: Lambda functions are anonymous, meaning they don't require a name. This can be useful for one-time,\n",
    "throwaway functions where there is no need to define a function name explicitly.\n",
    "c)\tFirst-class Citizens: Lambda functions are first-class citizens in Python, just like regular functions. They can be\n",
    "assigned to variables, passed as arguments to other functions, and returned as values from other functions.\n",
    "d)\tFunctional Programming: Lambda functions are commonly used in functional programming paradigms, where functions are\n",
    "treated as data and can be manipulated like any other data type.\n",
    "\n",
    "Limitations of Lambda Functions:\n",
    "a)\tSingle Expression: Lambda functions can only contain a single expression. This means they are not suitable for complex\n",
    "logic or multiple statements.\n",
    "b)\tNo Documentation: Lambda functions lack the ability to include documentation strings (docstrings) that provide details\n",
    "about the function's purpose, parameters, and behavior. Docstrings are a valuable way to document functions for clarity\n",
    "and maintainability.\n",
    "c)\tLimited Readability: While lambda functions can be concise, they can also become less readable if they contain too\n",
    "much logic.\n",
    "d)\tDebugging Challenges: When using lambda functions, debugging can be more challenging because they lack a name to\n",
    "identify them in tracebacks or error messages.\n",
    "e)\tNo Statements: Lambda functions can only contain expressions and not statements, so operations like assignments\n",
    "or print statements are not allowed.'''\n"
   ]
  },
  {
   "cell_type": "code",
   "execution_count": 16,
   "id": "c7e9df4c",
   "metadata": {},
   "outputs": [
    {
     "name": "stdout",
     "output_type": "stream",
     "text": [
      "18\n"
     ]
    }
   ],
   "source": [
    "'''Q5. Are lambda functions in Python able to access variables defined outside of their own scope?\n",
    "Explain with an example.\n",
    "Ans : Yes, lambda functions in Python can access variables defined outside of their own scope. They have access to\n",
    "variables from the surrounding environment, including global variables. \n",
    "Eg - '''\n",
    "\n",
    "def outer_function(x):\n",
    "    y = 10\n",
    "    lambda_func = lambda z: x + y + z\n",
    "    return lambda_func\n",
    "my_lambda = outer_function(5)\n",
    "result = my_lambda(3)\n",
    "print(result)\n"
   ]
  },
  {
   "cell_type": "code",
   "execution_count": 18,
   "id": "72301c6f",
   "metadata": {},
   "outputs": [
    {
     "name": "stdout",
     "output_type": "stream",
     "text": [
      "25\n"
     ]
    }
   ],
   "source": [
    "'''Q6. Write a lambda function to calculate the square of a given number.\n",
    "Ans :''' \n",
    "\n",
    "y = lambda x : x**2\n",
    "print(y(5))\n"
   ]
  },
  {
   "cell_type": "code",
   "execution_count": 19,
   "id": "9d8d4790",
   "metadata": {},
   "outputs": [
    {
     "name": "stdout",
     "output_type": "stream",
     "text": [
      "22\n"
     ]
    }
   ],
   "source": [
    "'''Q7. Create a lambda function to find the maximum value in a list of integers.\n",
    "Ans :''' \n",
    "\n",
    "find_max = lambda lst: max(lst)\n",
    "numbers = [10, 5, 18, 3, 22, 7]\n",
    "result = find_max(numbers)\n",
    "print(result)\n"
   ]
  },
  {
   "cell_type": "code",
   "execution_count": 20,
   "id": "c3bf53f3",
   "metadata": {},
   "outputs": [
    {
     "name": "stdout",
     "output_type": "stream",
     "text": [
      "[2, 4, 6, 8, 10]\n"
     ]
    }
   ],
   "source": [
    "'''Q8. Implement a lambda function to filter out all the even numbers from a list of integers.\n",
    "Ans :''' \n",
    "\n",
    "filter_even = lambda lst: list(filter(lambda x: x % 2 == 0, lst))\n",
    "numbers = [1, 2, 3, 4, 5, 6, 7, 8, 9, 10]\n",
    "even_numbers = filter_even(numbers)\n",
    "print(even_numbers)  \n"
   ]
  },
  {
   "cell_type": "code",
   "execution_count": 21,
   "id": "4c695146",
   "metadata": {},
   "outputs": [
    {
     "name": "stdout",
     "output_type": "stream",
     "text": [
      "['kiwi', 'apple', 'grape', 'banana', 'orange']\n"
     ]
    }
   ],
   "source": [
    "'''Q9. Write a lambda function to sort a list of strings in ascending order based on the length of each\n",
    "string.\n",
    "Ans : '''\n",
    "\n",
    "sort_by_length = lambda lst: sorted(lst, key=lambda x: len(x))\n",
    "words = ['apple', 'banana', 'orange', 'grape', 'kiwi']\n",
    "sorted_words = sort_by_length(words)\n",
    "print(sorted_words)\n"
   ]
  },
  {
   "cell_type": "code",
   "execution_count": 22,
   "id": "30a74fcd",
   "metadata": {},
   "outputs": [
    {
     "name": "stdout",
     "output_type": "stream",
     "text": [
      "[3, 4, 5]\n"
     ]
    }
   ],
   "source": [
    "'''Q10. Create a lambda function that takes two lists as input and returns a new list containing the\n",
    "common elements between the two lists.\n",
    "Ans : '''\n",
    "\n",
    "find_common_elements = lambda list1, list2: list(filter(lambda x: x in list2, list1))\n",
    "list1 = [1, 2, 3, 4, 5]\n",
    "list2 = [3, 4, 5, 6, 7]\n",
    "common_elements = find_common_elements(list1, list2)\n",
    "print(common_elements)\n"
   ]
  },
  {
   "cell_type": "code",
   "execution_count": 23,
   "id": "eee56590",
   "metadata": {},
   "outputs": [
    {
     "name": "stdout",
     "output_type": "stream",
     "text": [
      "The factorial of 5 is: 120\n"
     ]
    }
   ],
   "source": [
    "'''Q11. Write a recursive function to calculate the factorial of a given positive integer.\n",
    "Ans : '''\n",
    "\n",
    "def factorial(n):\n",
    "    if n == 0 or n == 1:\n",
    "        return 1\n",
    "    else:\n",
    "        return n * factorial(n - 1)\n",
    "\n",
    "num = 5\n",
    "result = factorial(num)\n",
    "print(f\"The factorial of {num} is: {result}\")  \n"
   ]
  },
  {
   "cell_type": "code",
   "execution_count": 26,
   "id": "7777b3cc",
   "metadata": {},
   "outputs": [
    {
     "name": "stdout",
     "output_type": "stream",
     "text": [
      "The fibonacci of 6 is: 8\n"
     ]
    }
   ],
   "source": [
    "'''Q12. Implement a recursive function to compute the nth Fibonacci number.\n",
    "Ans :'''\n",
    "\n",
    "def fib(n):\n",
    "    if n == 0:\n",
    "        return 0\n",
    "    elif n == 1:\n",
    "        return 1\n",
    "    else:\n",
    "        return fib(n-2) + fib(n-1)\n",
    "num = 6\n",
    "result = fib(num)\n",
    "print(f\"The fibonacci of {num} is: {result}\")\n"
   ]
  },
  {
   "cell_type": "code",
   "execution_count": 27,
   "id": "89117e3c",
   "metadata": {},
   "outputs": [
    {
     "name": "stdout",
     "output_type": "stream",
     "text": [
      "The sum of elements in the list is: 15\n"
     ]
    }
   ],
   "source": [
    "'''Q13. Create a recursive function to find the sum of all the elements in a given list.\n",
    "Ans :'''\n",
    "\n",
    "def rec_sum(lst):\n",
    "    if not lst:\n",
    "        return 0\n",
    "    else:\n",
    "        return lst[0] + rec_sum(lst[1:])\n",
    "numbers = [1, 2, 3, 4, 5]\n",
    "result = rec_sum(numbers)\n",
    "print(f\"The sum of elements in the list is: {result}\")\n"
   ]
  },
  {
   "cell_type": "code",
   "execution_count": 32,
   "id": "2dcfca9b",
   "metadata": {},
   "outputs": [
    {
     "name": "stdout",
     "output_type": "stream",
     "text": [
      "True\n"
     ]
    }
   ],
   "source": [
    "'''Q14. Write a recursive function to determine whether a given string is a palindrome.\n",
    "Ans :'''\n",
    "\n",
    "def is_palindrome(s):\n",
    "    if len(s) <= 1:\n",
    "        return True\n",
    "    elif s[0] != s[-1]:\n",
    "        return False\n",
    "    else:\n",
    "        return is_palindrome(s[1:-1])\n",
    "    \n",
    "Word = print(is_palindrome(\"racecar\"))\n"
   ]
  },
  {
   "cell_type": "code",
   "execution_count": 33,
   "id": "be2443fd",
   "metadata": {},
   "outputs": [
    {
     "name": "stdout",
     "output_type": "stream",
     "text": [
      "The GCD of 125 and 50 is: 25\n"
     ]
    }
   ],
   "source": [
    "'''Q15. Implement a recursive function to find the greatest common divisor (GCD) of two positive integers.\n",
    "Ans :'''\n",
    "\n",
    "def gcd(a, b):\n",
    "    if b == 0:\n",
    "        return a\n",
    "    else:\n",
    "        return gcd(b, a % b)\n",
    "num1 = 125\n",
    "num2 = 50\n",
    "result = gcd(num1, num2)\n",
    "print(f\"The GCD of {num1} and {num2} is: {result}\")"
   ]
  },
  {
   "cell_type": "code",
   "execution_count": null,
   "id": "b422f7d4",
   "metadata": {},
   "outputs": [],
   "source": []
  },
  {
   "cell_type": "code",
   "execution_count": null,
   "id": "c8668938",
   "metadata": {},
   "outputs": [],
   "source": []
  },
  {
   "cell_type": "code",
   "execution_count": null,
   "id": "f67f8c71",
   "metadata": {},
   "outputs": [],
   "source": []
  },
  {
   "cell_type": "code",
   "execution_count": null,
   "id": "f82f871a",
   "metadata": {},
   "outputs": [],
   "source": []
  },
  {
   "cell_type": "code",
   "execution_count": null,
   "id": "79718684",
   "metadata": {},
   "outputs": [],
   "source": []
  },
  {
   "cell_type": "code",
   "execution_count": null,
   "id": "81d1668c",
   "metadata": {},
   "outputs": [],
   "source": []
  },
  {
   "cell_type": "code",
   "execution_count": null,
   "id": "f56c8884",
   "metadata": {},
   "outputs": [],
   "source": []
  },
  {
   "cell_type": "code",
   "execution_count": null,
   "id": "a3e125b6",
   "metadata": {},
   "outputs": [],
   "source": []
  }
 ],
 "metadata": {
  "kernelspec": {
   "display_name": "Python 3 (ipykernel)",
   "language": "python",
   "name": "python3"
  },
  "language_info": {
   "codemirror_mode": {
    "name": "ipython",
    "version": 3
   },
   "file_extension": ".py",
   "mimetype": "text/x-python",
   "name": "python",
   "nbconvert_exporter": "python",
   "pygments_lexer": "ipython3",
   "version": "3.9.12"
  }
 },
 "nbformat": 4,
 "nbformat_minor": 5
}
